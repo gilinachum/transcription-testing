{
 "cells": [
  {
   "cell_type": "markdown",
   "id": "2634d9ee",
   "metadata": {},
   "source": [
    "# Evaluating Whisper\n",
    "In this notebook we evaluate Whisper. The notebook assumes that test data is uploaded to an S3 bucket and a endpoint has been created."
   ]
  },
  {
   "cell_type": "code",
   "execution_count": null,
   "id": "df4145b9",
   "metadata": {},
   "outputs": [],
   "source": [
    "# !pip install evaluate"
   ]
  },
  {
   "cell_type": "code",
   "execution_count": null,
   "id": "e2c95c76",
   "metadata": {},
   "outputs": [],
   "source": [
    "# !pip install jiwer"
   ]
  },
  {
   "cell_type": "code",
   "execution_count": 1,
   "id": "95866407",
   "metadata": {},
   "outputs": [],
   "source": [
    "import sagemaker\n",
    "import boto3\n",
    "\n",
    "sess = sagemaker.Session()\n",
    "sagemaker_session_bucket = sess.default_bucket()"
   ]
  },
  {
   "cell_type": "markdown",
   "id": "9685a422",
   "metadata": {},
   "source": [
    "Getting the list of audio files in the S3 bucket which we will use for testing"
   ]
  },
  {
   "cell_type": "code",
   "execution_count": 30,
   "id": "486af0ed",
   "metadata": {},
   "outputs": [],
   "source": [
    "s3 = boto3.client('s3')\n",
    "file_list = []\n",
    "\n",
    "response = s3.list_objects_v2(\n",
    "    Bucket=sagemaker_session_bucket,\n",
    "    Prefix='whisper/data/test/he/')\n",
    "\n",
    "for content in response.get('Contents', []):\n",
    "    if \"wav\" in content['Key']:\n",
    "        file_list.append(f\"s3://{sagemaker_session_bucket}/{content['Key']}\")"
   ]
  },
  {
   "cell_type": "markdown",
   "id": "f08799de",
   "metadata": {},
   "source": [
    "Downloading the csv file that contains the ground truth"
   ]
  },
  {
   "cell_type": "code",
   "execution_count": 43,
   "id": "121fd64d",
   "metadata": {},
   "outputs": [],
   "source": [
    "s3.download_file(sagemaker_session_bucket, \"whisper/data/test/he/test-he.tsv\", 'test-he.tsv')"
   ]
  },
  {
   "cell_type": "code",
   "execution_count": 52,
   "id": "ea8f55dc",
   "metadata": {},
   "outputs": [],
   "source": [
    "import pandas as pd\n",
    "df = pd.read_csv('test-he.tsv', sep='\\t')\n",
    "df[\"transcription_whisper\"] = \"\""
   ]
  },
  {
   "cell_type": "code",
   "execution_count": null,
   "id": "b905c37d",
   "metadata": {},
   "outputs": [],
   "source": [
    "df.head()"
   ]
  },
  {
   "cell_type": "markdown",
   "id": "e74ccc08",
   "metadata": {},
   "source": [
    "Loading the endpoint"
   ]
  },
  {
   "cell_type": "code",
   "execution_count": 11,
   "id": "f778e15d",
   "metadata": {},
   "outputs": [],
   "source": [
    "from sagemaker.huggingface import HuggingFacePredictor\n",
    "\n",
    "endpoint_name = \"whisper-large-custom-2022-12-08-21-23-42-385\"\n",
    "predictor = HuggingFacePredictor(endpoint_name)"
   ]
  },
  {
   "cell_type": "markdown",
   "id": "04c128f9",
   "metadata": {},
   "source": [
    "Loop over the file list - call the endpoint for each file.\n",
    "\n",
    "Todo: This can be improved in two ways:\n",
    "1. Parallel calls to the endpoint (concurrency)\n",
    "2. Using Batch Transform instead (tbc if this is possible)"
   ]
  },
  {
   "cell_type": "code",
   "execution_count": 74,
   "id": "24486220",
   "metadata": {
    "scrolled": true
   },
   "outputs": [
    {
     "name": "stdout",
     "output_type": "stream",
     "text": [
      "0\n",
      "1\n",
      "2\n",
      "3\n",
      "4\n",
      "5\n",
      "6\n",
      "7\n",
      "8\n",
      "9\n",
      "10\n",
      "11\n",
      "12\n",
      "13\n",
      "14\n",
      "15\n",
      "16\n",
      "17\n",
      "18\n",
      "19\n",
      "20\n",
      "21\n",
      "22\n",
      "23\n",
      "24\n",
      "25\n",
      "26\n",
      "27\n",
      "28\n",
      "29\n",
      "30\n",
      "31\n",
      "32\n",
      "33\n",
      "34\n",
      "35\n",
      "36\n",
      "37\n",
      "38\n",
      "39\n",
      "40\n",
      "41\n",
      "42\n",
      "43\n",
      "44\n",
      "45\n",
      "46\n",
      "47\n",
      "48\n",
      "49\n",
      "50\n",
      "51\n",
      "52\n",
      "53\n",
      "54\n",
      "55\n",
      "56\n",
      "57\n",
      "58\n",
      "59\n",
      "60\n",
      "61\n",
      "62\n",
      "63\n",
      "64\n",
      "65\n",
      "66\n",
      "67\n",
      "68\n",
      "69\n",
      "70\n",
      "71\n",
      "72\n",
      "73\n",
      "74\n",
      "75\n",
      "76\n",
      "77\n",
      "78\n",
      "79\n",
      "80\n",
      "81\n",
      "82\n",
      "83\n",
      "84\n",
      "85\n",
      "86\n",
      "87\n",
      "88\n",
      "89\n",
      "90\n",
      "91\n",
      "92\n",
      "93\n",
      "94\n",
      "95\n",
      "96\n",
      "97\n",
      "98\n",
      "99\n"
     ]
    }
   ],
   "source": [
    "transcription_list = []\n",
    "\n",
    "for i, file in enumerate(file_list):\n",
    "    print(i)\n",
    "    \n",
    "    data = {\n",
    "        \"s3_file\": file,\n",
    "        \"language\": \"he\"\n",
    "    }\n",
    "    res = predictor.predict(data=data)\n",
    "    transcription = res['transcription']\n",
    "    \n",
    "    df.at[i, \"transcription_whisper\"] = transcription"
   ]
  },
  {
   "cell_type": "code",
   "execution_count": 75,
   "id": "02229527",
   "metadata": {},
   "outputs": [
    {
     "data": {
      "text/html": [
       "<div>\n",
       "<style scoped>\n",
       "    .dataframe tbody tr th:only-of-type {\n",
       "        vertical-align: middle;\n",
       "    }\n",
       "\n",
       "    .dataframe tbody tr th {\n",
       "        vertical-align: top;\n",
       "    }\n",
       "\n",
       "    .dataframe thead th {\n",
       "        text-align: right;\n",
       "    }\n",
       "</style>\n",
       "<table border=\"1\" class=\"dataframe\">\n",
       "  <thead>\n",
       "    <tr style=\"text-align: right;\">\n",
       "      <th></th>\n",
       "      <th>id</th>\n",
       "      <th>raw_transcription</th>\n",
       "      <th>transcription</th>\n",
       "      <th>new_filename</th>\n",
       "      <th>transcription_whisper</th>\n",
       "    </tr>\n",
       "  </thead>\n",
       "  <tbody>\n",
       "    <tr>\n",
       "      <th>0</th>\n",
       "      <td>1741</td>\n",
       "      <td>אזורים גדולים צפונית משם הם בעלי אוכלוסייה דלי...</td>\n",
       "      <td>אזורים גדולים צפונית משם הם בעלי אוכלוסייה דלי...</td>\n",
       "      <td>test-he-000.wav</td>\n",
       "      <td>אזורים גדולים צפונית משם הם בעלי אוכלוסייה די...</td>\n",
       "    </tr>\n",
       "    <tr>\n",
       "      <th>1</th>\n",
       "      <td>1861</td>\n",
       "      <td>כתוצאה מכך, השחקנים מעשנים ג'וינטים של קנאביס ...</td>\n",
       "      <td>כתוצאה מכך השחקנים מעשנים ג'וינטים של קנאביס ע...</td>\n",
       "      <td>test-he-001.wav</td>\n",
       "      <td>כתוצאה מכך השחקנים מאשנים ג'וינטים של קנאביס ...</td>\n",
       "    </tr>\n",
       "    <tr>\n",
       "      <th>2</th>\n",
       "      <td>1803</td>\n",
       "      <td>הלחות על הידיים שלך תגיב עם השכבות החיצוניות, ...</td>\n",
       "      <td>הלחות על הידיים שלך תגיב עם השכבות החיצוניות מ...</td>\n",
       "      <td>test-he-002.wav</td>\n",
       "      <td>הלחות על הידיים שלך תגיב עם משחבות החיצוניות,...</td>\n",
       "    </tr>\n",
       "    <tr>\n",
       "      <th>3</th>\n",
       "      <td>1873</td>\n",
       "      <td>היו תקיפות בדחיית גברים, ואל תפחדו לעמוד על של...</td>\n",
       "      <td>היו תקיפות בדחיית גברים ואל תפחדו לעמוד על שלכ...</td>\n",
       "      <td>test-he-003.wav</td>\n",
       "      <td>לא תקיפו על ביטחיית גברים ואל תפחדו ללמוד לדש...</td>\n",
       "    </tr>\n",
       "    <tr>\n",
       "      <th>4</th>\n",
       "      <td>1759</td>\n",
       "      <td>ד\"ר מלאר בלסוברמניאן, בן 29, נמצא בבלו אש, אוה...</td>\n",
       "      <td>ד\"ר מלאר בלסוברמניאן בן 29 נמצא בבלו אש אוהיו ...</td>\n",
       "      <td>test-he-004.wav</td>\n",
       "      <td>ד.מ.ב.מ.ע.ב.29 נמצא בבלו אש, הוהיו. פרוור נמצ...</td>\n",
       "    </tr>\n",
       "  </tbody>\n",
       "</table>\n",
       "</div>"
      ],
      "text/plain": [
       "     id                                  raw_transcription  \\\n",
       "0  1741  אזורים גדולים צפונית משם הם בעלי אוכלוסייה דלי...   \n",
       "1  1861  כתוצאה מכך, השחקנים מעשנים ג'וינטים של קנאביס ...   \n",
       "2  1803  הלחות על הידיים שלך תגיב עם השכבות החיצוניות, ...   \n",
       "3  1873  היו תקיפות בדחיית גברים, ואל תפחדו לעמוד על של...   \n",
       "4  1759  ד\"ר מלאר בלסוברמניאן, בן 29, נמצא בבלו אש, אוה...   \n",
       "\n",
       "                                       transcription     new_filename  \\\n",
       "0  אזורים גדולים צפונית משם הם בעלי אוכלוסייה דלי...  test-he-000.wav   \n",
       "1  כתוצאה מכך השחקנים מעשנים ג'וינטים של קנאביס ע...  test-he-001.wav   \n",
       "2  הלחות על הידיים שלך תגיב עם השכבות החיצוניות מ...  test-he-002.wav   \n",
       "3  היו תקיפות בדחיית גברים ואל תפחדו לעמוד על שלכ...  test-he-003.wav   \n",
       "4  ד\"ר מלאר בלסוברמניאן בן 29 נמצא בבלו אש אוהיו ...  test-he-004.wav   \n",
       "\n",
       "                               transcription_whisper  \n",
       "0   אזורים גדולים צפונית משם הם בעלי אוכלוסייה די...  \n",
       "1   כתוצאה מכך השחקנים מאשנים ג'וינטים של קנאביס ...  \n",
       "2   הלחות על הידיים שלך תגיב עם משחבות החיצוניות,...  \n",
       "3   לא תקיפו על ביטחיית גברים ואל תפחדו ללמוד לדש...  \n",
       "4   ד.מ.ב.מ.ע.ב.29 נמצא בבלו אש, הוהיו. פרוור נמצ...  "
      ]
     },
     "execution_count": 75,
     "metadata": {},
     "output_type": "execute_result"
    }
   ],
   "source": [
    "df.head()"
   ]
  },
  {
   "cell_type": "markdown",
   "id": "c25197b6",
   "metadata": {},
   "source": [
    "## Overall WER score"
   ]
  },
  {
   "cell_type": "code",
   "execution_count": 108,
   "id": "0fe11de6",
   "metadata": {},
   "outputs": [],
   "source": [
    "predictions = list(df[\"transcription_whisper\"])\n",
    "references = list(df[\"raw_transcription\"])"
   ]
  },
  {
   "cell_type": "code",
   "execution_count": 109,
   "id": "49fbda23",
   "metadata": {},
   "outputs": [],
   "source": [
    "import evaluate\n",
    "wer = evaluate.load(\"wer\")"
   ]
  },
  {
   "cell_type": "code",
   "execution_count": 110,
   "id": "6c28fb70",
   "metadata": {},
   "outputs": [
    {
     "data": {
      "text/plain": [
       "0.3350485991995426"
      ]
     },
     "execution_count": 110,
     "metadata": {},
     "output_type": "execute_result"
    }
   ],
   "source": [
    "wer_score = wer.compute(predictions=predictions, references=references)\n",
    "wer_score"
   ]
  },
  {
   "cell_type": "markdown",
   "id": "414b5ca7",
   "metadata": {},
   "source": [
    "## Individual WER Score"
   ]
  },
  {
   "cell_type": "code",
   "execution_count": 91,
   "id": "f37c3f12",
   "metadata": {},
   "outputs": [],
   "source": [
    "def compute_wer(row, col1, col2):\n",
    "    return wer.compute(predictions=[row[col1]], references=[row[col2]])"
   ]
  },
  {
   "cell_type": "code",
   "execution_count": 92,
   "id": "57c55fa5",
   "metadata": {},
   "outputs": [
    {
     "data": {
      "text/html": [
       "<div>\n",
       "<style scoped>\n",
       "    .dataframe tbody tr th:only-of-type {\n",
       "        vertical-align: middle;\n",
       "    }\n",
       "\n",
       "    .dataframe tbody tr th {\n",
       "        vertical-align: top;\n",
       "    }\n",
       "\n",
       "    .dataframe thead th {\n",
       "        text-align: right;\n",
       "    }\n",
       "</style>\n",
       "<table border=\"1\" class=\"dataframe\">\n",
       "  <thead>\n",
       "    <tr style=\"text-align: right;\">\n",
       "      <th></th>\n",
       "      <th>id</th>\n",
       "      <th>raw_transcription</th>\n",
       "      <th>transcription</th>\n",
       "      <th>new_filename</th>\n",
       "      <th>transcription_whisper</th>\n",
       "    </tr>\n",
       "  </thead>\n",
       "  <tbody>\n",
       "    <tr>\n",
       "      <th>0</th>\n",
       "      <td>1741</td>\n",
       "      <td>אזורים גדולים צפונית משם הם בעלי אוכלוסייה דלי...</td>\n",
       "      <td>אזורים גדולים צפונית משם הם בעלי אוכלוסייה דלי...</td>\n",
       "      <td>test-he-000.wav</td>\n",
       "      <td>אזורים גדולים צפונית משם הם בעלי אוכלוסייה די...</td>\n",
       "    </tr>\n",
       "    <tr>\n",
       "      <th>1</th>\n",
       "      <td>1861</td>\n",
       "      <td>כתוצאה מכך, השחקנים מעשנים ג'וינטים של קנאביס ...</td>\n",
       "      <td>כתוצאה מכך השחקנים מעשנים ג'וינטים של קנאביס ע...</td>\n",
       "      <td>test-he-001.wav</td>\n",
       "      <td>כתוצאה מכך השחקנים מאשנים ג'וינטים של קנאביס ...</td>\n",
       "    </tr>\n",
       "    <tr>\n",
       "      <th>2</th>\n",
       "      <td>1803</td>\n",
       "      <td>הלחות על הידיים שלך תגיב עם השכבות החיצוניות, ...</td>\n",
       "      <td>הלחות על הידיים שלך תגיב עם השכבות החיצוניות מ...</td>\n",
       "      <td>test-he-002.wav</td>\n",
       "      <td>הלחות על הידיים שלך תגיב עם משחבות החיצוניות,...</td>\n",
       "    </tr>\n",
       "    <tr>\n",
       "      <th>3</th>\n",
       "      <td>1873</td>\n",
       "      <td>היו תקיפות בדחיית גברים, ואל תפחדו לעמוד על של...</td>\n",
       "      <td>היו תקיפות בדחיית גברים ואל תפחדו לעמוד על שלכ...</td>\n",
       "      <td>test-he-003.wav</td>\n",
       "      <td>לא תקיפו על ביטחיית גברים ואל תפחדו ללמוד לדש...</td>\n",
       "    </tr>\n",
       "    <tr>\n",
       "      <th>4</th>\n",
       "      <td>1759</td>\n",
       "      <td>ד\"ר מלאר בלסוברמניאן, בן 29, נמצא בבלו אש, אוה...</td>\n",
       "      <td>ד\"ר מלאר בלסוברמניאן בן 29 נמצא בבלו אש אוהיו ...</td>\n",
       "      <td>test-he-004.wav</td>\n",
       "      <td>ד.מ.ב.מ.ע.ב.29 נמצא בבלו אש, הוהיו. פרוור נמצ...</td>\n",
       "    </tr>\n",
       "  </tbody>\n",
       "</table>\n",
       "</div>"
      ],
      "text/plain": [
       "     id                                  raw_transcription  \\\n",
       "0  1741  אזורים גדולים צפונית משם הם בעלי אוכלוסייה דלי...   \n",
       "1  1861  כתוצאה מכך, השחקנים מעשנים ג'וינטים של קנאביס ...   \n",
       "2  1803  הלחות על הידיים שלך תגיב עם השכבות החיצוניות, ...   \n",
       "3  1873  היו תקיפות בדחיית גברים, ואל תפחדו לעמוד על של...   \n",
       "4  1759  ד\"ר מלאר בלסוברמניאן, בן 29, נמצא בבלו אש, אוה...   \n",
       "\n",
       "                                       transcription     new_filename  \\\n",
       "0  אזורים גדולים צפונית משם הם בעלי אוכלוסייה דלי...  test-he-000.wav   \n",
       "1  כתוצאה מכך השחקנים מעשנים ג'וינטים של קנאביס ע...  test-he-001.wav   \n",
       "2  הלחות על הידיים שלך תגיב עם השכבות החיצוניות מ...  test-he-002.wav   \n",
       "3  היו תקיפות בדחיית גברים ואל תפחדו לעמוד על שלכ...  test-he-003.wav   \n",
       "4  ד\"ר מלאר בלסוברמניאן בן 29 נמצא בבלו אש אוהיו ...  test-he-004.wav   \n",
       "\n",
       "                               transcription_whisper  \n",
       "0   אזורים גדולים צפונית משם הם בעלי אוכלוסייה די...  \n",
       "1   כתוצאה מכך השחקנים מאשנים ג'וינטים של קנאביס ...  \n",
       "2   הלחות על הידיים שלך תגיב עם משחבות החיצוניות,...  \n",
       "3   לא תקיפו על ביטחיית גברים ואל תפחדו ללמוד לדש...  \n",
       "4   ד.מ.ב.מ.ע.ב.29 נמצא בבלו אש, הוהיו. פרוור נמצ...  "
      ]
     },
     "execution_count": 92,
     "metadata": {},
     "output_type": "execute_result"
    }
   ],
   "source": [
    "df.head()"
   ]
  },
  {
   "cell_type": "code",
   "execution_count": 93,
   "id": "cc5896f7",
   "metadata": {},
   "outputs": [],
   "source": [
    "df[\"WER score - Whisper\"] = df.apply(compute_wer, args=('transcription_whisper', 'raw_transcription'), axis=1)"
   ]
  },
  {
   "cell_type": "code",
   "execution_count": 94,
   "id": "bc88199a",
   "metadata": {},
   "outputs": [
    {
     "data": {
      "text/html": [
       "<div>\n",
       "<style scoped>\n",
       "    .dataframe tbody tr th:only-of-type {\n",
       "        vertical-align: middle;\n",
       "    }\n",
       "\n",
       "    .dataframe tbody tr th {\n",
       "        vertical-align: top;\n",
       "    }\n",
       "\n",
       "    .dataframe thead th {\n",
       "        text-align: right;\n",
       "    }\n",
       "</style>\n",
       "<table border=\"1\" class=\"dataframe\">\n",
       "  <thead>\n",
       "    <tr style=\"text-align: right;\">\n",
       "      <th></th>\n",
       "      <th>id</th>\n",
       "      <th>raw_transcription</th>\n",
       "      <th>transcription</th>\n",
       "      <th>new_filename</th>\n",
       "      <th>transcription_whisper</th>\n",
       "      <th>WER score - Whisper</th>\n",
       "    </tr>\n",
       "  </thead>\n",
       "  <tbody>\n",
       "    <tr>\n",
       "      <th>0</th>\n",
       "      <td>1741</td>\n",
       "      <td>אזורים גדולים צפונית משם הם בעלי אוכלוסייה דלי...</td>\n",
       "      <td>אזורים גדולים צפונית משם הם בעלי אוכלוסייה דלי...</td>\n",
       "      <td>test-he-000.wav</td>\n",
       "      <td>אזורים גדולים צפונית משם הם בעלי אוכלוסייה די...</td>\n",
       "      <td>0.187500</td>\n",
       "    </tr>\n",
       "    <tr>\n",
       "      <th>1</th>\n",
       "      <td>1861</td>\n",
       "      <td>כתוצאה מכך, השחקנים מעשנים ג'וינטים של קנאביס ...</td>\n",
       "      <td>כתוצאה מכך השחקנים מעשנים ג'וינטים של קנאביס ע...</td>\n",
       "      <td>test-he-001.wav</td>\n",
       "      <td>כתוצאה מכך השחקנים מאשנים ג'וינטים של קנאביס ...</td>\n",
       "      <td>0.200000</td>\n",
       "    </tr>\n",
       "    <tr>\n",
       "      <th>2</th>\n",
       "      <td>1803</td>\n",
       "      <td>הלחות על הידיים שלך תגיב עם השכבות החיצוניות, ...</td>\n",
       "      <td>הלחות על הידיים שלך תגיב עם השכבות החיצוניות מ...</td>\n",
       "      <td>test-he-002.wav</td>\n",
       "      <td>הלחות על הידיים שלך תגיב עם משחבות החיצוניות,...</td>\n",
       "      <td>0.133333</td>\n",
       "    </tr>\n",
       "    <tr>\n",
       "      <th>3</th>\n",
       "      <td>1873</td>\n",
       "      <td>היו תקיפות בדחיית גברים, ואל תפחדו לעמוד על של...</td>\n",
       "      <td>היו תקיפות בדחיית גברים ואל תפחדו לעמוד על שלכ...</td>\n",
       "      <td>test-he-003.wav</td>\n",
       "      <td>לא תקיפו על ביטחיית גברים ואל תפחדו ללמוד לדש...</td>\n",
       "      <td>0.578947</td>\n",
       "    </tr>\n",
       "    <tr>\n",
       "      <th>4</th>\n",
       "      <td>1759</td>\n",
       "      <td>ד\"ר מלאר בלסוברמניאן, בן 29, נמצא בבלו אש, אוה...</td>\n",
       "      <td>ד\"ר מלאר בלסוברמניאן בן 29 נמצא בבלו אש אוהיו ...</td>\n",
       "      <td>test-he-004.wav</td>\n",
       "      <td>ד.מ.ב.מ.ע.ב.29 נמצא בבלו אש, הוהיו. פרוור נמצ...</td>\n",
       "      <td>0.322581</td>\n",
       "    </tr>\n",
       "  </tbody>\n",
       "</table>\n",
       "</div>"
      ],
      "text/plain": [
       "     id                                  raw_transcription  \\\n",
       "0  1741  אזורים גדולים צפונית משם הם בעלי אוכלוסייה דלי...   \n",
       "1  1861  כתוצאה מכך, השחקנים מעשנים ג'וינטים של קנאביס ...   \n",
       "2  1803  הלחות על הידיים שלך תגיב עם השכבות החיצוניות, ...   \n",
       "3  1873  היו תקיפות בדחיית גברים, ואל תפחדו לעמוד על של...   \n",
       "4  1759  ד\"ר מלאר בלסוברמניאן, בן 29, נמצא בבלו אש, אוה...   \n",
       "\n",
       "                                       transcription     new_filename  \\\n",
       "0  אזורים גדולים צפונית משם הם בעלי אוכלוסייה דלי...  test-he-000.wav   \n",
       "1  כתוצאה מכך השחקנים מעשנים ג'וינטים של קנאביס ע...  test-he-001.wav   \n",
       "2  הלחות על הידיים שלך תגיב עם השכבות החיצוניות מ...  test-he-002.wav   \n",
       "3  היו תקיפות בדחיית גברים ואל תפחדו לעמוד על שלכ...  test-he-003.wav   \n",
       "4  ד\"ר מלאר בלסוברמניאן בן 29 נמצא בבלו אש אוהיו ...  test-he-004.wav   \n",
       "\n",
       "                               transcription_whisper  WER score - Whisper  \n",
       "0   אזורים גדולים צפונית משם הם בעלי אוכלוסייה די...             0.187500  \n",
       "1   כתוצאה מכך השחקנים מאשנים ג'וינטים של קנאביס ...             0.200000  \n",
       "2   הלחות על הידיים שלך תגיב עם משחבות החיצוניות,...             0.133333  \n",
       "3   לא תקיפו על ביטחיית גברים ואל תפחדו ללמוד לדש...             0.578947  \n",
       "4   ד.מ.ב.מ.ע.ב.29 נמצא בבלו אש, הוהיו. פרוור נמצ...             0.322581  "
      ]
     },
     "execution_count": 94,
     "metadata": {},
     "output_type": "execute_result"
    }
   ],
   "source": [
    "df.head()"
   ]
  },
  {
   "cell_type": "markdown",
   "id": "cd2efe1f",
   "metadata": {},
   "source": [
    "Sort descending by WER score to see where the model struggled the most:"
   ]
  },
  {
   "cell_type": "code",
   "execution_count": 95,
   "id": "dbef0a2b",
   "metadata": {},
   "outputs": [
    {
     "data": {
      "text/html": [
       "<div>\n",
       "<style scoped>\n",
       "    .dataframe tbody tr th:only-of-type {\n",
       "        vertical-align: middle;\n",
       "    }\n",
       "\n",
       "    .dataframe tbody tr th {\n",
       "        vertical-align: top;\n",
       "    }\n",
       "\n",
       "    .dataframe thead th {\n",
       "        text-align: right;\n",
       "    }\n",
       "</style>\n",
       "<table border=\"1\" class=\"dataframe\">\n",
       "  <thead>\n",
       "    <tr style=\"text-align: right;\">\n",
       "      <th></th>\n",
       "      <th>id</th>\n",
       "      <th>raw_transcription</th>\n",
       "      <th>transcription</th>\n",
       "      <th>new_filename</th>\n",
       "      <th>transcription_whisper</th>\n",
       "      <th>WER score - Whisper</th>\n",
       "    </tr>\n",
       "  </thead>\n",
       "  <tbody>\n",
       "    <tr>\n",
       "      <th>18</th>\n",
       "      <td>1850</td>\n",
       "      <td>זה יאפשר לו להיות תואם לאחור עם 802.11a, 802.1...</td>\n",
       "      <td>זה יאפשר לו להיות תואם לאחור עם 802.11a 802.11...</td>\n",
       "      <td>test-he-018.wav</td>\n",
       "      <td>בתנאי שלתחנת הבסיס יש מכשירי קשר כפולים 802.1...</td>\n",
       "      <td>1.000000</td>\n",
       "    </tr>\n",
       "    <tr>\n",
       "      <th>36</th>\n",
       "      <td>1885</td>\n",
       "      <td>בין השעות 22:00-23:00 לפי אזור זמן ההרים (MDT)...</td>\n",
       "      <td>בין השעות 22:00-23:00 לפי אזור זמן ההרים mdt ה...</td>\n",
       "      <td>test-he-036.wav</td>\n",
       "      <td>פני הים</td>\n",
       "      <td>1.000000</td>\n",
       "    </tr>\n",
       "    <tr>\n",
       "      <th>80</th>\n",
       "      <td>1870</td>\n",
       "      <td>הסצנות מוצגות על גבי הפירמידות והפירמידות השונ...</td>\n",
       "      <td>הסצנות מוצגות על גבי הפירמידות והפירמידות השונ...</td>\n",
       "      <td>test-he-080.wav</td>\n",
       "      <td>הצנות נוצרות אגב הפרמילו והפרמילות השונות מרוב.</td>\n",
       "      <td>0.875000</td>\n",
       "    </tr>\n",
       "    <tr>\n",
       "      <th>73</th>\n",
       "      <td>1672</td>\n",
       "      <td>היזהרו שהבד לא יתחמם יותר מידי (מה שיכול לגרום...</td>\n",
       "      <td>היזהרו שהבד לא יתחמם יותר מידי מה שיכול לגרום ...</td>\n",
       "      <td>test-he-073.wav</td>\n",
       "      <td>זהרו שהבד לא יתחנה מיותר מדי.</td>\n",
       "      <td>0.857143</td>\n",
       "    </tr>\n",
       "    <tr>\n",
       "      <th>68</th>\n",
       "      <td>1731</td>\n",
       "      <td>בארכיפלג האיים ובאגמים אינכם צריכים בהכרח יאכטה.</td>\n",
       "      <td>בארכיפלג האיים ובאגמים אינכם צריכים בהכרח יאכטה</td>\n",
       "      <td>test-he-068.wav</td>\n",
       "      <td>באר חבלק, העיים ובעגמים אינכם צריכים בהכריח י...</td>\n",
       "      <td>0.857143</td>\n",
       "    </tr>\n",
       "    <tr>\n",
       "      <th>65</th>\n",
       "      <td>1668</td>\n",
       "      <td>ייתכן גם שכדאי לרכוש Wild Card, המאפשר כניסה ל...</td>\n",
       "      <td>ייתכן גם שכדאי לרכוש wild card המאפשר כניסה למ...</td>\n",
       "      <td>test-he-065.wav</td>\n",
       "      <td>המאפשר כניסה למבחרת פארקים בדרום אפריקה או לכ...</td>\n",
       "      <td>0.777778</td>\n",
       "    </tr>\n",
       "    <tr>\n",
       "      <th>39</th>\n",
       "      <td>1918</td>\n",
       "      <td>יער סונדרבאנס הוכרז כאתר מורשת עולמי מטעם יונס...</td>\n",
       "      <td>יער סונדרבאנס הוכרז כאתר מורשת עולמי מטעם יונס...</td>\n",
       "      <td>test-he-039.wav</td>\n",
       "      <td>ירוק סונדרבנס הוא חצרי אתר מורישת עולמים מטעם...</td>\n",
       "      <td>0.764706</td>\n",
       "    </tr>\n",
       "    <tr>\n",
       "      <th>53</th>\n",
       "      <td>1940</td>\n",
       "      <td>בהתחשב בכל הנתונים, אל לנו להיות מופתעים אם אב...</td>\n",
       "      <td>בהתחשב בכל הנתונים אל לנו להיות מופתעים אם אבו...</td>\n",
       "      <td>test-he-053.wav</td>\n",
       "      <td>מתחשב בכל הנתונים, אלה נדיות מופתעים עם אהבות...</td>\n",
       "      <td>0.695652</td>\n",
       "    </tr>\n",
       "    <tr>\n",
       "      <th>16</th>\n",
       "      <td>1876</td>\n",
       "      <td>מלשכת ניהול מצבי חירום באיי מריאנה הצפוניים נמ...</td>\n",
       "      <td>מלשכת ניהול מצבי חירום באיי מריאנה הצפוניים נמ...</td>\n",
       "      <td>test-he-016.wav</td>\n",
       "      <td>מנשקת מעול מצבי חירום בים אריאן הצפוניים נמסר...</td>\n",
       "      <td>0.692308</td>\n",
       "    </tr>\n",
       "    <tr>\n",
       "      <th>66</th>\n",
       "      <td>1725</td>\n",
       "      <td>ASUS Eee PC, שהושק מוקדם יותר ברחבי העולם מפטת...</td>\n",
       "      <td>asus eee pc שהושק מוקדם יותר ברחבי העולם מפטת ...</td>\n",
       "      <td>test-he-066.wav</td>\n",
       "      <td>יותר בחוויה עולם מפתעת סיבות הקשורות לחסכון ב...</td>\n",
       "      <td>0.681818</td>\n",
       "    </tr>\n",
       "  </tbody>\n",
       "</table>\n",
       "</div>"
      ],
      "text/plain": [
       "      id                                  raw_transcription  \\\n",
       "18  1850  זה יאפשר לו להיות תואם לאחור עם 802.11a, 802.1...   \n",
       "36  1885  בין השעות 22:00-23:00 לפי אזור זמן ההרים (MDT)...   \n",
       "80  1870  הסצנות מוצגות על גבי הפירמידות והפירמידות השונ...   \n",
       "73  1672  היזהרו שהבד לא יתחמם יותר מידי (מה שיכול לגרום...   \n",
       "68  1731   בארכיפלג האיים ובאגמים אינכם צריכים בהכרח יאכטה.   \n",
       "65  1668  ייתכן גם שכדאי לרכוש Wild Card, המאפשר כניסה ל...   \n",
       "39  1918  יער סונדרבאנס הוכרז כאתר מורשת עולמי מטעם יונס...   \n",
       "53  1940  בהתחשב בכל הנתונים, אל לנו להיות מופתעים אם אב...   \n",
       "16  1876  מלשכת ניהול מצבי חירום באיי מריאנה הצפוניים נמ...   \n",
       "66  1725  ASUS Eee PC, שהושק מוקדם יותר ברחבי העולם מפטת...   \n",
       "\n",
       "                                        transcription     new_filename  \\\n",
       "18  זה יאפשר לו להיות תואם לאחור עם 802.11a 802.11...  test-he-018.wav   \n",
       "36  בין השעות 22:00-23:00 לפי אזור זמן ההרים mdt ה...  test-he-036.wav   \n",
       "80  הסצנות מוצגות על גבי הפירמידות והפירמידות השונ...  test-he-080.wav   \n",
       "73  היזהרו שהבד לא יתחמם יותר מידי מה שיכול לגרום ...  test-he-073.wav   \n",
       "68    בארכיפלג האיים ובאגמים אינכם צריכים בהכרח יאכטה  test-he-068.wav   \n",
       "65  ייתכן גם שכדאי לרכוש wild card המאפשר כניסה למ...  test-he-065.wav   \n",
       "39  יער סונדרבאנס הוכרז כאתר מורשת עולמי מטעם יונס...  test-he-039.wav   \n",
       "53  בהתחשב בכל הנתונים אל לנו להיות מופתעים אם אבו...  test-he-053.wav   \n",
       "16  מלשכת ניהול מצבי חירום באיי מריאנה הצפוניים נמ...  test-he-016.wav   \n",
       "66  asus eee pc שהושק מוקדם יותר ברחבי העולם מפטת ...  test-he-066.wav   \n",
       "\n",
       "                                transcription_whisper  WER score - Whisper  \n",
       "18   בתנאי שלתחנת הבסיס יש מכשירי קשר כפולים 802.1...             1.000000  \n",
       "36                                            פני הים             1.000000  \n",
       "80    הצנות נוצרות אגב הפרמילו והפרמילות השונות מרוב.             0.875000  \n",
       "73                      זהרו שהבד לא יתחנה מיותר מדי.             0.857143  \n",
       "68   באר חבלק, העיים ובעגמים אינכם צריכים בהכריח י...             0.857143  \n",
       "65   המאפשר כניסה למבחרת פארקים בדרום אפריקה או לכ...             0.777778  \n",
       "39   ירוק סונדרבנס הוא חצרי אתר מורישת עולמים מטעם...             0.764706  \n",
       "53   מתחשב בכל הנתונים, אלה נדיות מופתעים עם אהבות...             0.695652  \n",
       "16   מנשקת מעול מצבי חירום בים אריאן הצפוניים נמסר...             0.692308  \n",
       "66   יותר בחוויה עולם מפתעת סיבות הקשורות לחסכון ב...             0.681818  "
      ]
     },
     "execution_count": 95,
     "metadata": {},
     "output_type": "execute_result"
    }
   ],
   "source": [
    "df.sort_values(\"WER score - Whisper\", ascending=False).head(10)"
   ]
  },
  {
   "cell_type": "code",
   "execution_count": 103,
   "id": "e6d08094",
   "metadata": {},
   "outputs": [
    {
     "data": {
      "text/plain": [
       "' בתנאי שלתחנת הבסיס יש מכשירי קשר כפולים 802.11b 802.11a זה יאפשר לו להיות תואם לאחור עם 802.11'"
      ]
     },
     "execution_count": 103,
     "metadata": {},
     "output_type": "execute_result"
    }
   ],
   "source": [
    "df[df[\"id\"] == 1850]['transcription_whisper'].values[0]"
   ]
  },
  {
   "cell_type": "code",
   "execution_count": 104,
   "id": "da46dbb2",
   "metadata": {},
   "outputs": [
    {
     "data": {
      "text/plain": [
       "'זה יאפשר לו להיות תואם לאחור עם 802.11a, 802.11b ו-802.11g, בתנאי שלתחנת הבסיס יש מכשירי קשר כפולים.'"
      ]
     },
     "execution_count": 104,
     "metadata": {},
     "output_type": "execute_result"
    }
   ],
   "source": [
    "df[df[\"id\"] == 1850]['raw_transcription'].values[0]"
   ]
  },
  {
   "cell_type": "markdown",
   "id": "b4bcc4dd",
   "metadata": {},
   "source": [
    "## Further processing before calculating WER score\n",
    "If it makes sense in our use case to do some further processing before calcualting the WER score, we can do that. In this example we remove punctuation before calculating the WER score."
   ]
  },
  {
   "cell_type": "code",
   "execution_count": 105,
   "id": "20ac696d",
   "metadata": {},
   "outputs": [],
   "source": [
    "import re\n",
    "\n",
    "def clean(text):\n",
    "    return re.sub(r'[^\\w\\s]', '', text)"
   ]
  },
  {
   "cell_type": "code",
   "execution_count": 106,
   "id": "ddabf563",
   "metadata": {},
   "outputs": [],
   "source": [
    "predictions_clean = list(map(clean, predictions))\n",
    "references_clean = list(map(clean, references))"
   ]
  },
  {
   "cell_type": "code",
   "execution_count": 107,
   "id": "8ccb1892",
   "metadata": {},
   "outputs": [
    {
     "data": {
      "text/plain": [
       "0.28219805380652546"
      ]
     },
     "execution_count": 107,
     "metadata": {},
     "output_type": "execute_result"
    }
   ],
   "source": [
    "wer_score = wer.compute(predictions=predictions_clean, references=references_clean)\n",
    "wer_score"
   ]
  },
  {
   "cell_type": "code",
   "execution_count": null,
   "id": "dbf4a318",
   "metadata": {},
   "outputs": [],
   "source": []
  }
 ],
 "metadata": {
  "kernelspec": {
   "display_name": "conda_python3",
   "language": "python",
   "name": "conda_python3"
  },
  "language_info": {
   "codemirror_mode": {
    "name": "ipython",
    "version": 3
   },
   "file_extension": ".py",
   "mimetype": "text/x-python",
   "name": "python",
   "nbconvert_exporter": "python",
   "pygments_lexer": "ipython3",
   "version": "3.8.12"
  }
 },
 "nbformat": 4,
 "nbformat_minor": 5
}
