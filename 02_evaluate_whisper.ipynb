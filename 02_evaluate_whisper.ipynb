{
 "cells": [
  {
   "cell_type": "markdown",
   "id": "2f377e9c",
   "metadata": {},
   "source": [
    "# Testing Whisper\n",
    "In this notebook we evaluate Whisper. The notebook assumes that test data is uploaded to an S3 bucket and a endpoint has been created."
   ]
  },
  {
   "cell_type": "code",
   "execution_count": null,
   "id": "7a0fb8c4",
   "metadata": {},
   "outputs": [],
   "source": [
    "# !pip install evaluate"
   ]
  },
  {
   "cell_type": "code",
   "execution_count": null,
   "id": "de299c5d",
   "metadata": {},
   "outputs": [],
   "source": [
    "# !pip install jiwer"
   ]
  },
  {
   "cell_type": "code",
   "execution_count": 1,
   "id": "28d4f71a",
   "metadata": {},
   "outputs": [],
   "source": [
    "import sagemaker\n",
    "import boto3\n",
    "\n",
    "sess = sagemaker.Session()\n",
    "sagemaker_session_bucket = sess.default_bucket()"
   ]
  },
  {
   "cell_type": "code",
   "execution_count": 30,
   "id": "92e2756c",
   "metadata": {},
   "outputs": [],
   "source": [
    "s3 = boto3.client('s3')\n",
    "file_list = []\n",
    "\n",
    "response = s3.list_objects_v2(\n",
    "    Bucket=sagemaker_session_bucket,\n",
    "    Prefix='whisper/data/test/he/')\n",
    "\n",
    "for content in response.get('Contents', []):\n",
    "    if \"wav\" in content['Key']:\n",
    "        file_list.append(f\"s3://{sagemaker_session_bucket}/{content['Key']}\")"
   ]
  },
  {
   "cell_type": "code",
   "execution_count": 43,
   "id": "71f0b081",
   "metadata": {},
   "outputs": [],
   "source": [
    "s3.download_file(sagemaker_session_bucket, \"whisper/data/test/he/test-he.tsv\", 'test-he.tsv')"
   ]
  },
  {
   "cell_type": "code",
   "execution_count": 52,
   "id": "9492700e",
   "metadata": {},
   "outputs": [],
   "source": [
    "import pandas as pd\n",
    "df = pd.read_csv('test-he.tsv', sep='\\t')\n",
    "df[\"transcription_whisper\"] = \"\""
   ]
  },
  {
   "cell_type": "code",
   "execution_count": 53,
   "id": "f3d995f5",
   "metadata": {},
   "outputs": [
    {
     "data": {
      "text/html": [
       "<div>\n",
       "<style scoped>\n",
       "    .dataframe tbody tr th:only-of-type {\n",
       "        vertical-align: middle;\n",
       "    }\n",
       "\n",
       "    .dataframe tbody tr th {\n",
       "        vertical-align: top;\n",
       "    }\n",
       "\n",
       "    .dataframe thead th {\n",
       "        text-align: right;\n",
       "    }\n",
       "</style>\n",
       "<table border=\"1\" class=\"dataframe\">\n",
       "  <thead>\n",
       "    <tr style=\"text-align: right;\">\n",
       "      <th></th>\n",
       "      <th>id</th>\n",
       "      <th>raw_transcription</th>\n",
       "      <th>transcription</th>\n",
       "      <th>new_filename</th>\n",
       "      <th>transcription_whisper</th>\n",
       "    </tr>\n",
       "  </thead>\n",
       "  <tbody>\n",
       "    <tr>\n",
       "      <th>0</th>\n",
       "      <td>1741</td>\n",
       "      <td>אזורים גדולים צפונית משם הם בעלי אוכלוסייה דלי...</td>\n",
       "      <td>אזורים גדולים צפונית משם הם בעלי אוכלוסייה דלי...</td>\n",
       "      <td>test-he-000.wav</td>\n",
       "      <td></td>\n",
       "    </tr>\n",
       "    <tr>\n",
       "      <th>1</th>\n",
       "      <td>1861</td>\n",
       "      <td>כתוצאה מכך, השחקנים מעשנים ג'וינטים של קנאביס ...</td>\n",
       "      <td>כתוצאה מכך השחקנים מעשנים ג'וינטים של קנאביס ע...</td>\n",
       "      <td>test-he-001.wav</td>\n",
       "      <td></td>\n",
       "    </tr>\n",
       "    <tr>\n",
       "      <th>2</th>\n",
       "      <td>1803</td>\n",
       "      <td>הלחות על הידיים שלך תגיב עם השכבות החיצוניות, ...</td>\n",
       "      <td>הלחות על הידיים שלך תגיב עם השכבות החיצוניות מ...</td>\n",
       "      <td>test-he-002.wav</td>\n",
       "      <td></td>\n",
       "    </tr>\n",
       "    <tr>\n",
       "      <th>3</th>\n",
       "      <td>1873</td>\n",
       "      <td>היו תקיפות בדחיית גברים, ואל תפחדו לעמוד על של...</td>\n",
       "      <td>היו תקיפות בדחיית גברים ואל תפחדו לעמוד על שלכ...</td>\n",
       "      <td>test-he-003.wav</td>\n",
       "      <td></td>\n",
       "    </tr>\n",
       "    <tr>\n",
       "      <th>4</th>\n",
       "      <td>1759</td>\n",
       "      <td>ד\"ר מלאר בלסוברמניאן, בן 29, נמצא בבלו אש, אוה...</td>\n",
       "      <td>ד\"ר מלאר בלסוברמניאן בן 29 נמצא בבלו אש אוהיו ...</td>\n",
       "      <td>test-he-004.wav</td>\n",
       "      <td></td>\n",
       "    </tr>\n",
       "  </tbody>\n",
       "</table>\n",
       "</div>"
      ],
      "text/plain": [
       "     id                                  raw_transcription  \\\n",
       "0  1741  אזורים גדולים צפונית משם הם בעלי אוכלוסייה דלי...   \n",
       "1  1861  כתוצאה מכך, השחקנים מעשנים ג'וינטים של קנאביס ...   \n",
       "2  1803  הלחות על הידיים שלך תגיב עם השכבות החיצוניות, ...   \n",
       "3  1873  היו תקיפות בדחיית גברים, ואל תפחדו לעמוד על של...   \n",
       "4  1759  ד\"ר מלאר בלסוברמניאן, בן 29, נמצא בבלו אש, אוה...   \n",
       "\n",
       "                                       transcription     new_filename  \\\n",
       "0  אזורים גדולים צפונית משם הם בעלי אוכלוסייה דלי...  test-he-000.wav   \n",
       "1  כתוצאה מכך השחקנים מעשנים ג'וינטים של קנאביס ע...  test-he-001.wav   \n",
       "2  הלחות על הידיים שלך תגיב עם השכבות החיצוניות מ...  test-he-002.wav   \n",
       "3  היו תקיפות בדחיית גברים ואל תפחדו לעמוד על שלכ...  test-he-003.wav   \n",
       "4  ד\"ר מלאר בלסוברמניאן בן 29 נמצא בבלו אש אוהיו ...  test-he-004.wav   \n",
       "\n",
       "  transcription_whisper  \n",
       "0                        \n",
       "1                        \n",
       "2                        \n",
       "3                        \n",
       "4                        "
      ]
     },
     "execution_count": 53,
     "metadata": {},
     "output_type": "execute_result"
    }
   ],
   "source": [
    "df.head()"
   ]
  },
  {
   "cell_type": "code",
   "execution_count": 47,
   "id": "872469a9",
   "metadata": {},
   "outputs": [],
   "source": [
    "endpoint_name = \"whisper-large-custom-2022-12-08-21-23-42-385\""
   ]
  },
  {
   "cell_type": "code",
   "execution_count": 11,
   "id": "ff985cd5",
   "metadata": {},
   "outputs": [],
   "source": [
    "from sagemaker.huggingface import HuggingFacePredictor\n",
    "\n",
    "predictor = HuggingFacePredictor(endpoint_name)"
   ]
  },
  {
   "cell_type": "code",
   "execution_count": 74,
   "id": "ea660f9f",
   "metadata": {
    "scrolled": true
   },
   "outputs": [
    {
     "name": "stdout",
     "output_type": "stream",
     "text": [
      "0\n",
      "1\n",
      "2\n",
      "3\n",
      "4\n",
      "5\n",
      "6\n",
      "7\n",
      "8\n",
      "9\n",
      "10\n",
      "11\n",
      "12\n",
      "13\n",
      "14\n",
      "15\n",
      "16\n",
      "17\n",
      "18\n",
      "19\n",
      "20\n",
      "21\n",
      "22\n",
      "23\n",
      "24\n",
      "25\n",
      "26\n",
      "27\n",
      "28\n",
      "29\n",
      "30\n",
      "31\n",
      "32\n",
      "33\n",
      "34\n",
      "35\n",
      "36\n",
      "37\n",
      "38\n",
      "39\n",
      "40\n",
      "41\n",
      "42\n",
      "43\n",
      "44\n",
      "45\n",
      "46\n",
      "47\n",
      "48\n",
      "49\n",
      "50\n",
      "51\n",
      "52\n",
      "53\n",
      "54\n",
      "55\n",
      "56\n",
      "57\n",
      "58\n",
      "59\n",
      "60\n",
      "61\n",
      "62\n",
      "63\n",
      "64\n",
      "65\n",
      "66\n",
      "67\n",
      "68\n",
      "69\n",
      "70\n",
      "71\n",
      "72\n",
      "73\n",
      "74\n",
      "75\n",
      "76\n",
      "77\n",
      "78\n",
      "79\n",
      "80\n",
      "81\n",
      "82\n",
      "83\n",
      "84\n",
      "85\n",
      "86\n",
      "87\n",
      "88\n",
      "89\n",
      "90\n",
      "91\n",
      "92\n",
      "93\n",
      "94\n",
      "95\n",
      "96\n",
      "97\n",
      "98\n",
      "99\n"
     ]
    }
   ],
   "source": [
    "transcription_list = []\n",
    "\n",
    "for i, file in enumerate(file_list):\n",
    "    print(i)\n",
    "    \n",
    "    data = {\n",
    "        \"s3_file\": file,\n",
    "        \"language\": \"he\"\n",
    "    }\n",
    "    res = predictor.predict(data=data)\n",
    "    transcription = res['transcription']\n",
    "    \n",
    "    df.at[i, \"transcription_whisper\"] = transcription"
   ]
  },
  {
   "cell_type": "code",
   "execution_count": 75,
   "id": "d6ed778d",
   "metadata": {},
   "outputs": [
    {
     "data": {
      "text/html": [
       "<div>\n",
       "<style scoped>\n",
       "    .dataframe tbody tr th:only-of-type {\n",
       "        vertical-align: middle;\n",
       "    }\n",
       "\n",
       "    .dataframe tbody tr th {\n",
       "        vertical-align: top;\n",
       "    }\n",
       "\n",
       "    .dataframe thead th {\n",
       "        text-align: right;\n",
       "    }\n",
       "</style>\n",
       "<table border=\"1\" class=\"dataframe\">\n",
       "  <thead>\n",
       "    <tr style=\"text-align: right;\">\n",
       "      <th></th>\n",
       "      <th>id</th>\n",
       "      <th>raw_transcription</th>\n",
       "      <th>transcription</th>\n",
       "      <th>new_filename</th>\n",
       "      <th>transcription_whisper</th>\n",
       "    </tr>\n",
       "  </thead>\n",
       "  <tbody>\n",
       "    <tr>\n",
       "      <th>0</th>\n",
       "      <td>1741</td>\n",
       "      <td>אזורים גדולים צפונית משם הם בעלי אוכלוסייה דלי...</td>\n",
       "      <td>אזורים גדולים צפונית משם הם בעלי אוכלוסייה דלי...</td>\n",
       "      <td>test-he-000.wav</td>\n",
       "      <td>אזורים גדולים צפונית משם הם בעלי אוכלוסייה די...</td>\n",
       "    </tr>\n",
       "    <tr>\n",
       "      <th>1</th>\n",
       "      <td>1861</td>\n",
       "      <td>כתוצאה מכך, השחקנים מעשנים ג'וינטים של קנאביס ...</td>\n",
       "      <td>כתוצאה מכך השחקנים מעשנים ג'וינטים של קנאביס ע...</td>\n",
       "      <td>test-he-001.wav</td>\n",
       "      <td>כתוצאה מכך השחקנים מאשנים ג'וינטים של קנאביס ...</td>\n",
       "    </tr>\n",
       "    <tr>\n",
       "      <th>2</th>\n",
       "      <td>1803</td>\n",
       "      <td>הלחות על הידיים שלך תגיב עם השכבות החיצוניות, ...</td>\n",
       "      <td>הלחות על הידיים שלך תגיב עם השכבות החיצוניות מ...</td>\n",
       "      <td>test-he-002.wav</td>\n",
       "      <td>הלחות על הידיים שלך תגיב עם משחבות החיצוניות,...</td>\n",
       "    </tr>\n",
       "    <tr>\n",
       "      <th>3</th>\n",
       "      <td>1873</td>\n",
       "      <td>היו תקיפות בדחיית גברים, ואל תפחדו לעמוד על של...</td>\n",
       "      <td>היו תקיפות בדחיית גברים ואל תפחדו לעמוד על שלכ...</td>\n",
       "      <td>test-he-003.wav</td>\n",
       "      <td>לא תקיפו על ביטחיית גברים ואל תפחדו ללמוד לדש...</td>\n",
       "    </tr>\n",
       "    <tr>\n",
       "      <th>4</th>\n",
       "      <td>1759</td>\n",
       "      <td>ד\"ר מלאר בלסוברמניאן, בן 29, נמצא בבלו אש, אוה...</td>\n",
       "      <td>ד\"ר מלאר בלסוברמניאן בן 29 נמצא בבלו אש אוהיו ...</td>\n",
       "      <td>test-he-004.wav</td>\n",
       "      <td>ד.מ.ב.מ.ע.ב.29 נמצא בבלו אש, הוהיו. פרוור נמצ...</td>\n",
       "    </tr>\n",
       "  </tbody>\n",
       "</table>\n",
       "</div>"
      ],
      "text/plain": [
       "     id                                  raw_transcription  \\\n",
       "0  1741  אזורים גדולים צפונית משם הם בעלי אוכלוסייה דלי...   \n",
       "1  1861  כתוצאה מכך, השחקנים מעשנים ג'וינטים של קנאביס ...   \n",
       "2  1803  הלחות על הידיים שלך תגיב עם השכבות החיצוניות, ...   \n",
       "3  1873  היו תקיפות בדחיית גברים, ואל תפחדו לעמוד על של...   \n",
       "4  1759  ד\"ר מלאר בלסוברמניאן, בן 29, נמצא בבלו אש, אוה...   \n",
       "\n",
       "                                       transcription     new_filename  \\\n",
       "0  אזורים גדולים צפונית משם הם בעלי אוכלוסייה דלי...  test-he-000.wav   \n",
       "1  כתוצאה מכך השחקנים מעשנים ג'וינטים של קנאביס ע...  test-he-001.wav   \n",
       "2  הלחות על הידיים שלך תגיב עם השכבות החיצוניות מ...  test-he-002.wav   \n",
       "3  היו תקיפות בדחיית גברים ואל תפחדו לעמוד על שלכ...  test-he-003.wav   \n",
       "4  ד\"ר מלאר בלסוברמניאן בן 29 נמצא בבלו אש אוהיו ...  test-he-004.wav   \n",
       "\n",
       "                               transcription_whisper  \n",
       "0   אזורים גדולים צפונית משם הם בעלי אוכלוסייה די...  \n",
       "1   כתוצאה מכך השחקנים מאשנים ג'וינטים של קנאביס ...  \n",
       "2   הלחות על הידיים שלך תגיב עם משחבות החיצוניות,...  \n",
       "3   לא תקיפו על ביטחיית גברים ואל תפחדו ללמוד לדש...  \n",
       "4   ד.מ.ב.מ.ע.ב.29 נמצא בבלו אש, הוהיו. פרוור נמצ...  "
      ]
     },
     "execution_count": 75,
     "metadata": {},
     "output_type": "execute_result"
    }
   ],
   "source": [
    "df.head()"
   ]
  },
  {
   "cell_type": "code",
   "execution_count": 76,
   "id": "5969dac0",
   "metadata": {},
   "outputs": [],
   "source": [
    "import re\n",
    "\n",
    "def clean(text):\n",
    "    return re.sub(r'[^\\w\\s]', '', text)"
   ]
  },
  {
   "cell_type": "code",
   "execution_count": 77,
   "id": "84af9edc",
   "metadata": {},
   "outputs": [],
   "source": [
    "predictions = list(df[\"transcription_whisper\"])\n",
    "references = list(df[\"raw_transcription\"])"
   ]
  },
  {
   "cell_type": "code",
   "execution_count": 78,
   "id": "f7cb3998",
   "metadata": {},
   "outputs": [],
   "source": [
    "predictions_clean = list(map(clean, predictions))\n",
    "references_clean = list(map(clean, references))"
   ]
  },
  {
   "cell_type": "code",
   "execution_count": 83,
   "id": "8498ba84",
   "metadata": {},
   "outputs": [],
   "source": [
    "import evaluate\n",
    "wer = evaluate.load(\"wer\")"
   ]
  },
  {
   "cell_type": "code",
   "execution_count": 84,
   "id": "e58666d6",
   "metadata": {},
   "outputs": [
    {
     "data": {
      "text/plain": [
       "0.3350485991995426"
      ]
     },
     "execution_count": 84,
     "metadata": {},
     "output_type": "execute_result"
    }
   ],
   "source": [
    "wer_score = wer.compute(predictions=predictions, references=references)\n",
    "wer_score"
   ]
  },
  {
   "cell_type": "code",
   "execution_count": 85,
   "id": "6016b59b",
   "metadata": {},
   "outputs": [
    {
     "data": {
      "text/plain": [
       "0.28219805380652546"
      ]
     },
     "execution_count": 85,
     "metadata": {},
     "output_type": "execute_result"
    }
   ],
   "source": [
    "wer_score = wer.compute(predictions=predictions_clean, references=references_clean)\n",
    "wer_score"
   ]
  },
  {
   "cell_type": "code",
   "execution_count": null,
   "id": "b1b5bb02",
   "metadata": {},
   "outputs": [],
   "source": []
  }
 ],
 "metadata": {
  "kernelspec": {
   "display_name": "conda_python3",
   "language": "python",
   "name": "conda_python3"
  },
  "language_info": {
   "codemirror_mode": {
    "name": "ipython",
    "version": 3
   },
   "file_extension": ".py",
   "mimetype": "text/x-python",
   "name": "python",
   "nbconvert_exporter": "python",
   "pygments_lexer": "ipython3",
   "version": "3.8.12"
  }
 },
 "nbformat": 4,
 "nbformat_minor": 5
}
