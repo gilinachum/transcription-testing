{
 "cells": [
  {
   "cell_type": "markdown",
   "id": "97b14a9f",
   "metadata": {},
   "source": [
    "# Evaluating Amazon Transcribe\n",
    "In this notebook we evaluate Amazon Transcribe. The notebook assumes that test data is uploaded to an S3 bucket and a endpoint has been created."
   ]
  },
  {
   "cell_type": "code",
   "execution_count": 1,
   "id": "e7437b9c",
   "metadata": {},
   "outputs": [],
   "source": [
    "import sagemaker\n",
    "import boto3\n",
    "\n",
    "sess = sagemaker.Session()\n",
    "sagemaker_session_bucket = sess.default_bucket()"
   ]
  },
  {
   "cell_type": "markdown",
   "id": "beb63dd1",
   "metadata": {},
   "source": [
    "Getting the list of audio files in the S3 bucket which we will use for testing"
   ]
  },
  {
   "cell_type": "code",
   "execution_count": 2,
   "id": "94ab98c9",
   "metadata": {},
   "outputs": [],
   "source": [
    "s3 = boto3.client('s3')\n",
    "file_list = []\n",
    "\n",
    "response = s3.list_objects_v2(\n",
    "    Bucket=sagemaker_session_bucket,\n",
    "    Prefix='whisper/data/test/he/')\n",
    "\n",
    "for content in response.get('Contents', []):\n",
    "    if \"wav\" in content['Key']:\n",
    "        file_list.append(f\"s3://{sagemaker_session_bucket}/{content['Key']}\")"
   ]
  },
  {
   "cell_type": "code",
   "execution_count": 3,
   "id": "039e160d",
   "metadata": {},
   "outputs": [
    {
     "data": {
      "text/plain": [
       "100"
      ]
     },
     "execution_count": 3,
     "metadata": {},
     "output_type": "execute_result"
    }
   ],
   "source": [
    "len(file_list)"
   ]
  },
  {
   "cell_type": "code",
   "execution_count": 4,
   "id": "92f899c5",
   "metadata": {},
   "outputs": [
    {
     "data": {
      "text/plain": [
       "['s3://sagemaker-us-east-1-905847418383/whisper/data/test/he/test-he-000.wav',\n",
       " 's3://sagemaker-us-east-1-905847418383/whisper/data/test/he/test-he-001.wav',\n",
       " 's3://sagemaker-us-east-1-905847418383/whisper/data/test/he/test-he-002.wav',\n",
       " 's3://sagemaker-us-east-1-905847418383/whisper/data/test/he/test-he-003.wav',\n",
       " 's3://sagemaker-us-east-1-905847418383/whisper/data/test/he/test-he-004.wav']"
      ]
     },
     "execution_count": 4,
     "metadata": {},
     "output_type": "execute_result"
    }
   ],
   "source": [
    "file_list[:5]"
   ]
  },
  {
   "cell_type": "markdown",
   "id": "bff7445a",
   "metadata": {},
   "source": [
    "This code will kick off a Amazon Transcribe job for each audio file and store the results in a text file in our S3 bucket"
   ]
  },
  {
   "cell_type": "code",
   "execution_count": 5,
   "id": "435872aa",
   "metadata": {
    "scrolled": true
   },
   "outputs": [
    {
     "name": "stdout",
     "output_type": "stream",
     "text": [
      "Started transcription job: transcribe-hebrew-2022-12-09-10-29-42-753-0\n",
      "Started transcription job: transcribe-hebrew-2022-12-09-10-29-42-753-1\n",
      "Started transcription job: transcribe-hebrew-2022-12-09-10-29-42-753-2\n",
      "Started transcription job: transcribe-hebrew-2022-12-09-10-29-42-753-3\n",
      "Started transcription job: transcribe-hebrew-2022-12-09-10-29-42-753-4\n",
      "Started transcription job: transcribe-hebrew-2022-12-09-10-29-42-753-5\n",
      "Started transcription job: transcribe-hebrew-2022-12-09-10-29-42-753-6\n",
      "Started transcription job: transcribe-hebrew-2022-12-09-10-29-42-753-7\n",
      "Started transcription job: transcribe-hebrew-2022-12-09-10-29-42-753-8\n",
      "Started transcription job: transcribe-hebrew-2022-12-09-10-29-42-753-9\n",
      "Started transcription job: transcribe-hebrew-2022-12-09-10-29-42-753-10\n",
      "Started transcription job: transcribe-hebrew-2022-12-09-10-29-42-753-11\n",
      "Started transcription job: transcribe-hebrew-2022-12-09-10-29-42-753-12\n",
      "Started transcription job: transcribe-hebrew-2022-12-09-10-29-42-753-13\n",
      "Started transcription job: transcribe-hebrew-2022-12-09-10-29-42-753-14\n",
      "Started transcription job: transcribe-hebrew-2022-12-09-10-29-42-753-15\n",
      "Started transcription job: transcribe-hebrew-2022-12-09-10-29-42-753-16\n",
      "Started transcription job: transcribe-hebrew-2022-12-09-10-29-42-753-17\n",
      "Started transcription job: transcribe-hebrew-2022-12-09-10-29-42-753-18\n",
      "Started transcription job: transcribe-hebrew-2022-12-09-10-29-42-753-19\n",
      "Started transcription job: transcribe-hebrew-2022-12-09-10-29-42-753-20\n",
      "Started transcription job: transcribe-hebrew-2022-12-09-10-29-42-753-21\n",
      "Started transcription job: transcribe-hebrew-2022-12-09-10-29-42-753-22\n",
      "Started transcription job: transcribe-hebrew-2022-12-09-10-29-42-753-23\n",
      "Started transcription job: transcribe-hebrew-2022-12-09-10-29-42-753-24\n",
      "Started transcription job: transcribe-hebrew-2022-12-09-10-29-42-753-25\n",
      "Started transcription job: transcribe-hebrew-2022-12-09-10-29-42-753-26\n",
      "Started transcription job: transcribe-hebrew-2022-12-09-10-29-42-753-27\n",
      "Started transcription job: transcribe-hebrew-2022-12-09-10-29-42-753-28\n",
      "Started transcription job: transcribe-hebrew-2022-12-09-10-29-42-753-29\n",
      "Started transcription job: transcribe-hebrew-2022-12-09-10-29-42-753-30\n",
      "Started transcription job: transcribe-hebrew-2022-12-09-10-29-42-753-31\n",
      "Started transcription job: transcribe-hebrew-2022-12-09-10-29-42-753-32\n",
      "Started transcription job: transcribe-hebrew-2022-12-09-10-29-42-753-33\n",
      "Started transcription job: transcribe-hebrew-2022-12-09-10-29-42-753-34\n",
      "Started transcription job: transcribe-hebrew-2022-12-09-10-29-42-753-35\n",
      "Started transcription job: transcribe-hebrew-2022-12-09-10-29-42-753-36\n",
      "Started transcription job: transcribe-hebrew-2022-12-09-10-29-42-753-37\n",
      "Started transcription job: transcribe-hebrew-2022-12-09-10-29-42-753-38\n",
      "Started transcription job: transcribe-hebrew-2022-12-09-10-29-42-753-39\n",
      "Started transcription job: transcribe-hebrew-2022-12-09-10-29-42-753-40\n",
      "Started transcription job: transcribe-hebrew-2022-12-09-10-29-42-753-41\n",
      "Started transcription job: transcribe-hebrew-2022-12-09-10-29-42-753-42\n",
      "Started transcription job: transcribe-hebrew-2022-12-09-10-29-42-753-43\n",
      "Started transcription job: transcribe-hebrew-2022-12-09-10-29-42-753-44\n",
      "Started transcription job: transcribe-hebrew-2022-12-09-10-29-42-753-45\n",
      "Started transcription job: transcribe-hebrew-2022-12-09-10-29-42-753-46\n",
      "Started transcription job: transcribe-hebrew-2022-12-09-10-29-42-753-47\n",
      "Started transcription job: transcribe-hebrew-2022-12-09-10-29-42-753-48\n",
      "Started transcription job: transcribe-hebrew-2022-12-09-10-29-42-753-49\n",
      "Started transcription job: transcribe-hebrew-2022-12-09-10-29-42-753-50\n",
      "Started transcription job: transcribe-hebrew-2022-12-09-10-29-42-753-51\n",
      "Started transcription job: transcribe-hebrew-2022-12-09-10-29-42-753-52\n",
      "Started transcription job: transcribe-hebrew-2022-12-09-10-29-42-753-53\n",
      "Started transcription job: transcribe-hebrew-2022-12-09-10-29-42-753-54\n",
      "Started transcription job: transcribe-hebrew-2022-12-09-10-29-42-753-55\n",
      "Started transcription job: transcribe-hebrew-2022-12-09-10-29-42-753-56\n",
      "Started transcription job: transcribe-hebrew-2022-12-09-10-29-42-753-57\n",
      "Started transcription job: transcribe-hebrew-2022-12-09-10-29-42-753-58\n",
      "Started transcription job: transcribe-hebrew-2022-12-09-10-29-42-753-59\n",
      "Started transcription job: transcribe-hebrew-2022-12-09-10-29-42-753-60\n",
      "Started transcription job: transcribe-hebrew-2022-12-09-10-29-42-753-61\n",
      "Started transcription job: transcribe-hebrew-2022-12-09-10-29-42-753-62\n",
      "Started transcription job: transcribe-hebrew-2022-12-09-10-29-42-753-63\n",
      "Started transcription job: transcribe-hebrew-2022-12-09-10-29-42-753-64\n",
      "Started transcription job: transcribe-hebrew-2022-12-09-10-29-42-753-65\n",
      "Started transcription job: transcribe-hebrew-2022-12-09-10-29-42-753-66\n",
      "Started transcription job: transcribe-hebrew-2022-12-09-10-29-42-753-67\n",
      "Started transcription job: transcribe-hebrew-2022-12-09-10-29-42-753-68\n",
      "Started transcription job: transcribe-hebrew-2022-12-09-10-29-42-753-69\n",
      "Started transcription job: transcribe-hebrew-2022-12-09-10-29-42-753-70\n",
      "Started transcription job: transcribe-hebrew-2022-12-09-10-29-42-753-71\n",
      "Started transcription job: transcribe-hebrew-2022-12-09-10-29-42-753-72\n",
      "Started transcription job: transcribe-hebrew-2022-12-09-10-29-42-753-73\n",
      "Started transcription job: transcribe-hebrew-2022-12-09-10-29-42-753-74\n",
      "Started transcription job: transcribe-hebrew-2022-12-09-10-29-42-753-75\n",
      "Started transcription job: transcribe-hebrew-2022-12-09-10-29-42-753-76\n",
      "Started transcription job: transcribe-hebrew-2022-12-09-10-29-42-753-77\n",
      "Started transcription job: transcribe-hebrew-2022-12-09-10-29-42-753-78\n",
      "Started transcription job: transcribe-hebrew-2022-12-09-10-29-42-753-79\n",
      "Started transcription job: transcribe-hebrew-2022-12-09-10-29-42-753-80\n",
      "Started transcription job: transcribe-hebrew-2022-12-09-10-29-42-753-81\n",
      "Started transcription job: transcribe-hebrew-2022-12-09-10-29-42-753-82\n",
      "Started transcription job: transcribe-hebrew-2022-12-09-10-29-42-753-83\n",
      "Started transcription job: transcribe-hebrew-2022-12-09-10-29-42-753-84\n",
      "Started transcription job: transcribe-hebrew-2022-12-09-10-29-42-753-85\n",
      "Started transcription job: transcribe-hebrew-2022-12-09-10-29-42-753-86\n",
      "Started transcription job: transcribe-hebrew-2022-12-09-10-29-42-753-87\n",
      "Started transcription job: transcribe-hebrew-2022-12-09-10-29-42-753-88\n",
      "Started transcription job: transcribe-hebrew-2022-12-09-10-29-42-753-89\n",
      "Started transcription job: transcribe-hebrew-2022-12-09-10-29-42-753-90\n",
      "Started transcription job: transcribe-hebrew-2022-12-09-10-29-42-753-91\n",
      "Started transcription job: transcribe-hebrew-2022-12-09-10-29-42-753-92\n",
      "Started transcription job: transcribe-hebrew-2022-12-09-10-29-42-753-93\n",
      "Started transcription job: transcribe-hebrew-2022-12-09-10-29-42-753-94\n",
      "Started transcription job: transcribe-hebrew-2022-12-09-10-29-42-753-95\n",
      "Started transcription job: transcribe-hebrew-2022-12-09-10-29-42-753-96\n",
      "Started transcription job: transcribe-hebrew-2022-12-09-10-29-42-753-97\n",
      "Started transcription job: transcribe-hebrew-2022-12-09-10-29-42-753-98\n",
      "Started transcription job: transcribe-hebrew-2022-12-09-10-29-42-753-99\n"
     ]
    }
   ],
   "source": [
    "from sagemaker.utils import name_from_base\n",
    "\n",
    "job_name_base = name_from_base(\"transcribe-hebrew\")\n",
    "transcribe = boto3.client('transcribe')\n",
    "\n",
    "for i, f in enumerate(file_list):\n",
    "    job_name = f\"{job_name_base}-{i}\"\n",
    "\n",
    "    # Start the transcription job\n",
    "    transcribe.start_transcription_job(\n",
    "        TranscriptionJobName=job_name,\n",
    "        Media={'MediaFileUri': f},\n",
    "        OutputBucketName=sagemaker_session_bucket,\n",
    "        # transcription will be stored in txt file with same name as the wav file\n",
    "        OutputKey=f'whisper/data/test/he/transcribe/{f.split(\"/\")[-1].split(\".\")[0]}.txt',\n",
    "        MediaFormat='wav',\n",
    "        LanguageCode='he-IL'\n",
    "    )\n",
    "\n",
    "    print(f\"Started transcription job: {job_name}\")"
   ]
  },
  {
   "cell_type": "markdown",
   "id": "6496fd0a",
   "metadata": {},
   "source": [
    "Once the jobs are finished (we can check the status in the Transcribe console) we can collect the output."
   ]
  },
  {
   "cell_type": "code",
   "execution_count": 7,
   "id": "aa137384",
   "metadata": {},
   "outputs": [],
   "source": [
    "import boto3\n",
    "import json\n",
    "\n",
    "client = boto3.client('s3')\n",
    "preds_transcribe = []\n",
    "\n",
    "response = client.list_objects_v2(\n",
    "    Bucket=sagemaker_session_bucket,\n",
    "    Prefix='whisper/data/test/he/transcribe/')\n",
    "\n",
    "for o in response.get('Contents'):\n",
    "    if \"txt\" in o.get('Key'):\n",
    "        data = client.get_object(Bucket=sagemaker_session_bucket, Key=o.get('Key'))\n",
    "        contents = data['Body'].read()\n",
    "        content = contents.decode(\"utf-8\")\n",
    "        d = json.loads(content)\n",
    "        preds_transcribe.append(d['results']['transcripts'][0]['transcript'])"
   ]
  },
  {
   "cell_type": "code",
   "execution_count": 8,
   "id": "ed382d45",
   "metadata": {},
   "outputs": [
    {
     "data": {
      "text/plain": [
       "['אזורים גדולים צפונית משם הם בעלי אוכלוסיית גדילה יחסית וחלק הם אזורי פרק כמעט לא מיושבים.',\n",
       " \"כתוצאה מכך השחקנים מעשנים ג'וינטים של קנאביס על הבמה והתיאטרון עצמו מעודד את הקהל להצטרף.\",\n",
       " 'הלכות על הידיים שלך טבעיים השכבות החיצוניות, מה שיגרום לתחושה מוזרות ויצוא. מעין קליפה.',\n",
       " 'בתקיפות בתחילת גברים. ואל תפחדו לעמוד לשלחם הבדלים תרבותיים או לא. זה לא הופך את זה לבסדר.',\n",
       " \"דוקטור 'מעלה' בלאס בו מניין בן נמצא בבל הוא אש או היום פרווה נמצא כ קילומטר צפונית לסינסנטי כשהוא שוכב על האדמה בצד הדרך בחולצת טריקו ותחתונים, ככל הנראה תחת השפעה כבדה של תרופות.\"]"
      ]
     },
     "execution_count": 8,
     "metadata": {},
     "output_type": "execute_result"
    }
   ],
   "source": [
    "preds_transcribe[:5]"
   ]
  },
  {
   "cell_type": "markdown",
   "id": "fae3e1c8",
   "metadata": {},
   "source": [
    "Downloading the csv file that contains the ground truth"
   ]
  },
  {
   "cell_type": "code",
   "execution_count": 9,
   "id": "b938b792",
   "metadata": {},
   "outputs": [],
   "source": [
    "s3.download_file(sagemaker_session_bucket, \"whisper/data/test/he/test-he.tsv\", 'test-he.tsv')"
   ]
  },
  {
   "cell_type": "code",
   "execution_count": 11,
   "id": "200c0df1",
   "metadata": {},
   "outputs": [],
   "source": [
    "import pandas as pd\n",
    "df = pd.read_csv('test-he.tsv', sep='\\t')"
   ]
  },
  {
   "cell_type": "code",
   "execution_count": 12,
   "id": "ed92650e",
   "metadata": {},
   "outputs": [],
   "source": [
    "df[\"transcription_transcribe\"] = preds_transcribe"
   ]
  },
  {
   "cell_type": "markdown",
   "id": "cd3e6cf8",
   "metadata": {},
   "source": [
    "## Overall WER score"
   ]
  },
  {
   "cell_type": "code",
   "execution_count": 15,
   "id": "9c1afe38",
   "metadata": {},
   "outputs": [],
   "source": [
    "predictions = list(df[\"transcription_transcribe\"])\n",
    "references = list(df[\"raw_transcription\"])"
   ]
  },
  {
   "cell_type": "code",
   "execution_count": 16,
   "id": "76afacdf",
   "metadata": {},
   "outputs": [],
   "source": [
    "import evaluate\n",
    "wer = evaluate.load(\"wer\")"
   ]
  },
  {
   "cell_type": "code",
   "execution_count": 17,
   "id": "63dd08a2",
   "metadata": {},
   "outputs": [
    {
     "data": {
      "text/plain": [
       "0.4025157232704403"
      ]
     },
     "execution_count": 17,
     "metadata": {},
     "output_type": "execute_result"
    }
   ],
   "source": [
    "wer_score = wer.compute(predictions=predictions, references=references)\n",
    "wer_score"
   ]
  },
  {
   "cell_type": "markdown",
   "id": "25ceddcd",
   "metadata": {},
   "source": [
    "## Individual WER Score"
   ]
  },
  {
   "cell_type": "code",
   "execution_count": 18,
   "id": "37d58bcd",
   "metadata": {},
   "outputs": [],
   "source": [
    "def compute_wer(row, col1, col2):\n",
    "    return wer.compute(predictions=[row[col1]], references=[row[col2]])"
   ]
  },
  {
   "cell_type": "code",
   "execution_count": 20,
   "id": "da237d84",
   "metadata": {},
   "outputs": [],
   "source": [
    "df[\"WER score - Transcribe\"] = df.apply(compute_wer, args=('transcription_transcribe', 'raw_transcription'), axis=1)"
   ]
  },
  {
   "cell_type": "code",
   "execution_count": 22,
   "id": "d9f2b988",
   "metadata": {},
   "outputs": [
    {
     "data": {
      "text/html": [
       "<div>\n",
       "<style scoped>\n",
       "    .dataframe tbody tr th:only-of-type {\n",
       "        vertical-align: middle;\n",
       "    }\n",
       "\n",
       "    .dataframe tbody tr th {\n",
       "        vertical-align: top;\n",
       "    }\n",
       "\n",
       "    .dataframe thead th {\n",
       "        text-align: right;\n",
       "    }\n",
       "</style>\n",
       "<table border=\"1\" class=\"dataframe\">\n",
       "  <thead>\n",
       "    <tr style=\"text-align: right;\">\n",
       "      <th></th>\n",
       "      <th>id</th>\n",
       "      <th>raw_transcription</th>\n",
       "      <th>transcription</th>\n",
       "      <th>new_filename</th>\n",
       "      <th>transcription_transcribe</th>\n",
       "      <th>WER score - Transcribe</th>\n",
       "    </tr>\n",
       "  </thead>\n",
       "  <tbody>\n",
       "    <tr>\n",
       "      <th>36</th>\n",
       "      <td>1885</td>\n",
       "      <td>בין השעות 22:00-23:00 לפי אזור זמן ההרים (MDT)...</td>\n",
       "      <td>בין השעות 22:00-23:00 לפי אזור זמן ההרים mdt ה...</td>\n",
       "      <td>test-he-036.wav</td>\n",
       "      <td>פשוט לחץ על זה לפני סוף השבוע.</td>\n",
       "      <td>1.000000</td>\n",
       "    </tr>\n",
       "    <tr>\n",
       "      <th>18</th>\n",
       "      <td>1850</td>\n",
       "      <td>זה יאפשר לו להיות תואם לאחור עם 802.11a, 802.1...</td>\n",
       "      <td>זה יאפשר לו להיות תואם לאחור עם 802.11a 802.11...</td>\n",
       "      <td>test-he-018.wav</td>\n",
       "      <td>בתנאי שלתחנת הבסיס יש מכשירי קשר כפולים. מי זה...</td>\n",
       "      <td>1.000000</td>\n",
       "    </tr>\n",
       "    <tr>\n",
       "      <th>65</th>\n",
       "      <td>1668</td>\n",
       "      <td>ייתכן גם שכדאי לרכוש Wild Card, המאפשר כניסה ל...</td>\n",
       "      <td>ייתכן גם שכדאי לרכוש wild card המאפשר כניסה למ...</td>\n",
       "      <td>test-he-065.wav</td>\n",
       "      <td>המאפשר כניסה למבחר פארקים. בדומה, אפריקה. לא ל...</td>\n",
       "      <td>0.888889</td>\n",
       "    </tr>\n",
       "    <tr>\n",
       "      <th>80</th>\n",
       "      <td>1870</td>\n",
       "      <td>הסצנות מוצגות על גבי הפירמידות והפירמידות השונ...</td>\n",
       "      <td>הסצנות מוצגות על גבי הפירמידות והפירמידות השונ...</td>\n",
       "      <td>test-he-080.wav</td>\n",
       "      <td>מצאנו את הצוות לגבי פעמינו והתלמידות השונות מרור.</td>\n",
       "      <td>0.875000</td>\n",
       "    </tr>\n",
       "    <tr>\n",
       "      <th>55</th>\n",
       "      <td>1735</td>\n",
       "      <td>חוקרים מאוניברסיטת פרינסטון בארצות הברית ואוני...</td>\n",
       "      <td>חוקרים מאוניברסיטת פרינסטון בארצות הברית ואוני...</td>\n",
       "      <td>test-he-055.wav</td>\n",
       "      <td>חוקרים באוניברסיטת פרינסטון בארצות הברית באוני...</td>\n",
       "      <td>0.846154</td>\n",
       "    </tr>\n",
       "    <tr>\n",
       "      <th>33</th>\n",
       "      <td>1827</td>\n",
       "      <td>עובי הקרום הוא כ-70 ק\"מ בצד הקרוב וכ-100 ק\"מ ב...</td>\n",
       "      <td>עובי הקרום הוא כ-70 ק מ בצד הקרוב וכ-100 ק מ ב...</td>\n",
       "      <td>test-he-033.wav</td>\n",
       "      <td>רובי היקום הוא כי שבעים קילומטר בצד הקרוב והיא...</td>\n",
       "      <td>0.818182</td>\n",
       "    </tr>\n",
       "    <tr>\n",
       "      <th>48</th>\n",
       "      <td>1814</td>\n",
       "      <td>יוני מימן הם פרוטונים שהאלקטרונים שלהם הופשטו ...</td>\n",
       "      <td>יוני מימן הם פרוטונים שהאלקטרונים שלהם הופשטו ...</td>\n",
       "      <td>test-he-048.wav</td>\n",
       "      <td>יונה ממנה בפרוטונים שהאלקטרונים שלהם הופשטו מה...</td>\n",
       "      <td>0.812500</td>\n",
       "    </tr>\n",
       "    <tr>\n",
       "      <th>73</th>\n",
       "      <td>1672</td>\n",
       "      <td>היזהרו שהבד לא יתחמם יותר מידי (מה שיכול לגרום...</td>\n",
       "      <td>היזהרו שהבד לא יתחמם יותר מידי מה שיכול לגרום ...</td>\n",
       "      <td>test-he-073.wav</td>\n",
       "      <td>היזהרו שהבד להתחבר יותר מדי.</td>\n",
       "      <td>0.785714</td>\n",
       "    </tr>\n",
       "    <tr>\n",
       "      <th>86</th>\n",
       "      <td>1954</td>\n",
       "      <td>ההגנה הממושמעת, יכולות השליטה בכדור ועבודת הצו...</td>\n",
       "      <td>ההגנה הממושמעת יכולות השליטה בכדור ועבודת הצוו...</td>\n",
       "      <td>test-he-086.wav</td>\n",
       "      <td>ההגנה ממושמע את יכולות השליטה בכדור עבודת צוות...</td>\n",
       "      <td>0.777778</td>\n",
       "    </tr>\n",
       "    <tr>\n",
       "      <th>39</th>\n",
       "      <td>1918</td>\n",
       "      <td>יער סונדרבאנס הוכרז כאתר מורשת עולמי מטעם יונס...</td>\n",
       "      <td>יער סונדרבאנס הוכרז כאתר מורשת עולמי מטעם יונס...</td>\n",
       "      <td>test-he-039.wav</td>\n",
       "      <td>יופי. שום דבר זוכרת. ואתר מורשת עולמי מטעם יונ...</td>\n",
       "      <td>0.764706</td>\n",
       "    </tr>\n",
       "  </tbody>\n",
       "</table>\n",
       "</div>"
      ],
      "text/plain": [
       "      id                                  raw_transcription  \\\n",
       "36  1885  בין השעות 22:00-23:00 לפי אזור זמן ההרים (MDT)...   \n",
       "18  1850  זה יאפשר לו להיות תואם לאחור עם 802.11a, 802.1...   \n",
       "65  1668  ייתכן גם שכדאי לרכוש Wild Card, המאפשר כניסה ל...   \n",
       "80  1870  הסצנות מוצגות על גבי הפירמידות והפירמידות השונ...   \n",
       "55  1735  חוקרים מאוניברסיטת פרינסטון בארצות הברית ואוני...   \n",
       "33  1827  עובי הקרום הוא כ-70 ק\"מ בצד הקרוב וכ-100 ק\"מ ב...   \n",
       "48  1814  יוני מימן הם פרוטונים שהאלקטרונים שלהם הופשטו ...   \n",
       "73  1672  היזהרו שהבד לא יתחמם יותר מידי (מה שיכול לגרום...   \n",
       "86  1954  ההגנה הממושמעת, יכולות השליטה בכדור ועבודת הצו...   \n",
       "39  1918  יער סונדרבאנס הוכרז כאתר מורשת עולמי מטעם יונס...   \n",
       "\n",
       "                                        transcription     new_filename  \\\n",
       "36  בין השעות 22:00-23:00 לפי אזור זמן ההרים mdt ה...  test-he-036.wav   \n",
       "18  זה יאפשר לו להיות תואם לאחור עם 802.11a 802.11...  test-he-018.wav   \n",
       "65  ייתכן גם שכדאי לרכוש wild card המאפשר כניסה למ...  test-he-065.wav   \n",
       "80  הסצנות מוצגות על גבי הפירמידות והפירמידות השונ...  test-he-080.wav   \n",
       "55  חוקרים מאוניברסיטת פרינסטון בארצות הברית ואוני...  test-he-055.wav   \n",
       "33  עובי הקרום הוא כ-70 ק מ בצד הקרוב וכ-100 ק מ ב...  test-he-033.wav   \n",
       "48  יוני מימן הם פרוטונים שהאלקטרונים שלהם הופשטו ...  test-he-048.wav   \n",
       "73  היזהרו שהבד לא יתחמם יותר מידי מה שיכול לגרום ...  test-he-073.wav   \n",
       "86  ההגנה הממושמעת יכולות השליטה בכדור ועבודת הצוו...  test-he-086.wav   \n",
       "39  יער סונדרבאנס הוכרז כאתר מורשת עולמי מטעם יונס...  test-he-039.wav   \n",
       "\n",
       "                             transcription_transcribe  WER score - Transcribe  \n",
       "36                     פשוט לחץ על זה לפני סוף השבוע.                1.000000  \n",
       "18  בתנאי שלתחנת הבסיס יש מכשירי קשר כפולים. מי זה...                1.000000  \n",
       "65  המאפשר כניסה למבחר פארקים. בדומה, אפריקה. לא ל...                0.888889  \n",
       "80  מצאנו את הצוות לגבי פעמינו והתלמידות השונות מרור.                0.875000  \n",
       "55  חוקרים באוניברסיטת פרינסטון בארצות הברית באוני...                0.846154  \n",
       "33  רובי היקום הוא כי שבעים קילומטר בצד הקרוב והיא...                0.818182  \n",
       "48  יונה ממנה בפרוטונים שהאלקטרונים שלהם הופשטו מה...                0.812500  \n",
       "73                       היזהרו שהבד להתחבר יותר מדי.                0.785714  \n",
       "86  ההגנה ממושמע את יכולות השליטה בכדור עבודת צוות...                0.777778  \n",
       "39  יופי. שום דבר זוכרת. ואתר מורשת עולמי מטעם יונ...                0.764706  "
      ]
     },
     "execution_count": 22,
     "metadata": {},
     "output_type": "execute_result"
    }
   ],
   "source": [
    "df.sort_values(\"WER score - Transcribe\", ascending=False).head(10)"
   ]
  },
  {
   "cell_type": "code",
   "execution_count": null,
   "id": "ba0772fa",
   "metadata": {},
   "outputs": [],
   "source": []
  }
 ],
 "metadata": {
  "kernelspec": {
   "display_name": "conda_python3",
   "language": "python",
   "name": "conda_python3"
  },
  "language_info": {
   "codemirror_mode": {
    "name": "ipython",
    "version": 3
   },
   "file_extension": ".py",
   "mimetype": "text/x-python",
   "name": "python",
   "nbconvert_exporter": "python",
   "pygments_lexer": "ipython3",
   "version": "3.8.12"
  }
 },
 "nbformat": 4,
 "nbformat_minor": 5
}
